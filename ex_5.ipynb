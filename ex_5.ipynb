{
  "cells": [
    {
      "cell_type": "markdown",
      "id": "3f9fde9d",
      "metadata": {
        "id": "3f9fde9d"
      },
      "source": [
        "# 1\n",
        "\n",
        "დაწერე ფუნქცია, რომელიც დააბრუნებს დროს:  წელი რიცვი თვე ფორმატში\n",
        "\n",
        "* მხოლოდ გამოყენებული იქნება **/** და **-**  სიმბოლოები\n",
        "* არ დაგავიწყდეს შედეგის დაბრუნება  (return)\n",
        " \n",
        "\n",
        "მაგალითი:\n",
        "\n",
        "tformat(\"15/September/1997\") ➞ \"1997/15/September\"    \n",
        "                                          \n",
        "tformat(\"01-November-1007\") ➞ \"1007-01-November\"\n",
        "\n",
        "tformat(\"27_January_2027\") ➞ \"2027_27_January\"\n"
      ]
    },
    {
      "cell_type": "code",
      "execution_count": null,
      "id": "e16bd830",
      "metadata": {
        "id": "e16bd830",
        "outputId": "a32f7183-43bd-44f4-c0b5-0feedd08a066"
      },
      "outputs": [
        {
          "name": "stdout",
          "output_type": "stream",
          "text": [
            "3\n"
          ]
        }
      ],
      "source": [
        "\n",
        "#__start__\n",
        "\n",
        "\n",
        "\n",
        "\n",
        "#__end__"
      ]
    },
    {
      "cell_type": "markdown",
      "id": "dfbf4169",
      "metadata": {
        "id": "dfbf4169"
      },
      "source": [
        "# 2\n",
        "\n",
        "\n",
        "\n",
        "დაწერეთ cleaner() ფუნქცია რომელიც სიიდან შლის დუპლიკატებს\n",
        "\n",
        "    cleaner([1, 1, False, True] )  ➞ [1, False, True]\n",
        "\n",
        "დაწერეთ fixer() ფუნქცია რომელიც სიაში None ებს ანაცვლებს 0 ით\n",
        "\n",
        "    fixer([None,None, 1, \"word\"] )  ➞ [0, 0, 1, \"word\"]\n",
        "\n",
        "დაწერეთ process() ფუნქცია რომელიც იღებს ფუნციების სიას და მონაცემებს, შემდგომ კი ამუშავებს.\n",
        "\n",
        "    funcs = [fixer,cleaner]\n",
        "    lst = [1,1,2,3,None, True]\n",
        "    process(funcs, lst) ➞ [1,2,3, None, True]\n",
        "\n",
        "\n",
        "* არ დაგავიწყდეს შედეგის დაბრუნება  (return)\n",
        " \n",
        "\n",
        "\n",
        "\n",
        "მაგალითი:\n",
        "\n",
        "    process([fixer,cleaner], [None, True]) ➞ [0, True]\n",
        "\n",
        "    process([fixer], [None,\"None\", True, True]) ➞ [0, \"None\", True, True]\n",
        "\n",
        "    process([cleaner, fixer], [None, False, None, False,]) ➞ [0, False]\n",
        "\n",
        "\n",
        "\n"
      ]
    },
    {
      "cell_type": "code",
      "execution_count": null,
      "id": "21855152",
      "metadata": {},
      "outputs": [],
      "source": []
    },
    {
      "cell_type": "markdown",
      "id": "8ZpVTkGGy5HH",
      "metadata": {
        "id": "8ZpVTkGGy5HH"
      },
      "source": [
        "# 3\n",
        "\n",
        "\n",
        "\n",
        "დაწერეთ fixurl() ფუნქცია რომელიც ქართულ ლინკებს ასწორებს და ზედმეტ სიმბოლოებს შლის\n",
        "\n",
        "\n",
        "ეს სიმბოლოები იქნება:  \"•\" , \" \", \"||\", \"_\"\n",
        "\n",
        "ge_en = {\n",
        "    'ა': 'a', 'ბ': 'b', 'გ': 'g', 'დ': 'd', 'ე': 'e', 'ვ': 'v',\n",
        "    'ზ': 'z', 'თ': 't', 'ი': 'i', 'კ': 'k', 'ლ': 'l', 'მ': 'm',\n",
        "    'ნ': 'n', 'ო': 'o', 'პ': 'p', 'ჟ': 'zh', 'რ': 'r', 'ს': 's',\n",
        "    'ტ': 't', 'უ': 'u', 'ფ': 'ph', 'ქ': 'k', 'ღ': 'gh', 'ყ': 'y',\n",
        "    'შ': 'sh', 'ჩ': 'ch', 'ც': 'ts', 'ძ': 'dz', 'წ': 'w', 'ჭ': 'ch',\n",
        "    'ხ': 'kh', 'ჯ': 'j', 'ჰ': 'h'\n",
        "  }\n",
        "\n",
        "    fixurl(\"https://discord.ge/inner/დამწყები დეველოპერები\") ➞ 'https://discord.ge/inner/damwyebi-developerebi'\n",
        "\n",
        "    fixurl(\"https://discord.ge/inner/Jortsoft Club\") ➞ 'https://discord.ge/inner/jortsoft-club'\n",
        "\n",
        "    fixurl(\"https://discord.ge/inner/Game • დებატი\") ➞ 'https://discord.ge/inner/game-debati'\n",
        "\n"
      ]
    },
    {
      "cell_type": "code",
      "execution_count": 1,
      "id": "WO3th2MFy5jO",
      "metadata": {
        "id": "WO3th2MFy5jO"
      },
      "outputs": [],
      "source": []
    }
  ],
  "metadata": {
    "colab": {
      "provenance": []
    },
    "kernelspec": {
      "display_name": "Python 3 (ipykernel)",
      "language": "python",
      "name": "python3"
    },
    "language_info": {
      "codemirror_mode": {
        "name": "ipython",
        "version": 3
      },
      "file_extension": ".py",
      "mimetype": "text/x-python",
      "name": "python",
      "nbconvert_exporter": "python",
      "pygments_lexer": "ipython3",
      "version": "3.9.13"
    },
    "vscode": {
      "interpreter": {
        "hash": "610a6f344c2137faf927ea819c63f6cee33a2c04455044b28099f39fe9722347"
      }
    }
  },
  "nbformat": 4,
  "nbformat_minor": 5
}
