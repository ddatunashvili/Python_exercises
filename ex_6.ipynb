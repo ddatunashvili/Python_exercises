{
  "cells": [
    {
      "cell_type": "markdown",
      "metadata": {
        "id": "V5r30Bm9leBb"
      },
      "source": [
        "<i style=\"color:purple\">  შექმენით მგზავრის კლასი:</i>\n",
        "\n",
        "    ატრიბუტები:\n",
        "*    სახელი\n",
        "*    ბარგის წონა\n",
        "*    ასაკი\n",
        "\n",
        "<i style=\"color:purple\"> შექმენით მანქანის კლასი:</i>\n",
        "\n",
        "    ატრიბუტები:\n",
        "*    თავისუფალი ადგილების რაოდენობა\n",
        "*    ბარგის წონის ლიმიტი\n",
        "        \n",
        "\n",
        "    მეთოდები:\n",
        "*  მგზავრის დამატება\n",
        "*  ბარგის საშუალო წონის დათვლა\n",
        "\n",
        "\n",
        "<i style=\"color:purple\"> შექმენით  ობიექტები</i>\n",
        "\n",
        "* 3 სხვადასხვა მანქანა\n",
        "\n",
        "      Car(2,40)\n",
        "      Car(2,24)\n",
        "      Car(1,23)\n",
        "\n",
        "* 4 მგზავრი\n",
        "\n",
        "      Passenger('Emily Carter', luggage_weight=23, age=29)\n",
        "      Passenger('Michael Thompson', luggage_weight=15, age=34)\n",
        "      Passenger('Sarah Johnson', luggage_weight=80, age=41)\n",
        "      Passenger('William Brown', luggage_weight=30, age=22)\n",
        "\n",
        "<br>\n",
        "<li style=\"color:green\">  დაწერეთ ფუნქცია, რომელიც  მგზავრებს დაამატებს luggage_weight-სა და დასაჯდომი ადგილის მიხედვით (თუ ბარგის ან მგზავრის ადგილი არის) </li><br>\n",
        "<li style=\"color:green\"> დაიანგარიშეთ თითოეული მანქანისათვის საშუალო ბარგის წონა და მასში მყოფი მგზავრების საშუალო ასაკი</li><br>\n",
        "<li style=\"color:green\">  წარმოადგინეთ მანქანაში  დარჩენილი luggage_weight ების საერთო რაოდენობა</li>\n",
        "\n",
        "\n",
        "\n",
        "    \n",
        "\n",
        "\n",
        "\n",
        "\n"
      ]
    }
  ],
  "metadata": {
    "kernelspec": {
      "display_name": "Python 3 (ipykernel)",
      "language": "python",
      "name": "python3"
    },
    "language_info": {
      "codemirror_mode": {
        "name": "ipython",
        "version": 3
      },
      "file_extension": ".py",
      "mimetype": "text/x-python",
      "name": "python",
      "nbconvert_exporter": "python",
      "pygments_lexer": "ipython3",
      "version": "3.9.13"
    },
    "vscode": {
      "interpreter": {
        "hash": "610a6f344c2137faf927ea819c63f6cee33a2c04455044b28099f39fe9722347"
      }
    },
    "colab": {
      "provenance": []
    }
  },
  "nbformat": 4,
  "nbformat_minor": 0
}