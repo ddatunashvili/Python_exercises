{
 "cells": [
  {
   "cell_type": "markdown",
   "metadata": {},
   "source": [
    "# ინსტრუქცია\n",
    "\n",
    "!!! კოდი ჩაწერეთ აუცილებლად **start** და **end** კომენტარების შორის  \n",
    "!!! ფუნქციის შიდა კოდის დასრულების შემდეგ წაშალეთ `print(function(element_or_variable))`\n",
    "\n",
    "---\n",
    "\n",
    "**ფუნქციის დაწერის ფორმატი:**\n",
    "\n",
    "```python\n",
    "# ფუნქციის სახელი (არგუმენტი)\n",
    "def function_name(argument):\n",
    " \n",
    "    ... აქ იწერება შიდა პროცესის კოდი ...\n",
    "\n",
    "    return result\n",
    "\n",
    "# ფუნქციის გამოძახება\n",
    "print(function(element_or_variable))\n",
    "```\n",
    "\n",
    "**მაგალითი:**\n",
    "\n",
    "```python\n",
    "# მისალმების ფუნცია\n",
    "def hello(name):\n",
    "    return \"hello \" + name\n",
    "\n",
    "print(hello(\"David\"))\n",
    "```\n",
    "\n",
    "**გთხოვთ, კოდი დაწერეთ `start` და `end` ბლოკების შორის და არ დაგავიწყდეთ ფუნქციის გამოძახების მოშლა:**\n",
    "\n",
    "```python\n",
    "# __start__\n",
    "\n",
    "... აქ იწერება ფუნქცია ...\n",
    "\n",
    "# __end__\n",
    "```\n",
    "\n",
    "**საბოლოოდ ასე უნდა გამოიყურებოდეს:**\n",
    "\n",
    "```python\n",
    "# __start__\n",
    "\n",
    "# მისალმების ფუნცია\n",
    "def hello(name):\n",
    "    return \"hello \" + name\n",
    "\n",
    "# __end__\n"
   ]
  }
 ],
 "metadata": {
  "kernelspec": {
   "display_name": "Python 3 (ipykernel)",
   "language": "python",
   "name": "python3"
  },
  "language_info": {
   "codemirror_mode": {
    "name": "ipython",
    "version": 3
   },
   "file_extension": ".py",
   "mimetype": "text/x-python",
   "name": "python",
   "nbconvert_exporter": "python",
   "pygments_lexer": "ipython3",
   "version": "3.10.5"
  },
  "vscode": {
   "interpreter": {
    "hash": "beedbe2faf2f7048d727558d0bc3221e7eba2a0b921cac4d4771b2feb8f74b30"
   }
  }
 },
 "nbformat": 4,
 "nbformat_minor": 2
}
