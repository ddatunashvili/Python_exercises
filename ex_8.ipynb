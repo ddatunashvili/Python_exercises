{
 "cells": [
  {
   "cell_type": "markdown",
   "metadata": {},
   "source": [
    "### გამოიძახე პოლიმორფიზმის გამოყენებით ფუნქცია fun() კლასებში ისე რომ მემკვიდრეობა არ დაირღვას და ამავდროულად ყველა კლასისთვის ინდივიდუალური return \"<კლასის სახელი>\" გამოვიდეს  როგოც მაგალითშია ნაჩვენები\n",
    "\n",
    "თითოეული uppercase კლასს ჰქონდეს შესაბამისი lowercase ფუნქცია, რომელსაც ექნება return \"კლასის სახელი\"\n",
    "\n",
    "```python\n",
    "class A:\n",
    "    def fun(self):\n",
    "        return \"class A\"\n",
    "    \n",
    "class B(A):\n",
    "    def fun(self):\n",
    "        return \"class B\"\n",
    "    \n",
    "    \n",
    "```\n",
    "\n"
   ]
  },
  {
   "cell_type": "markdown",
   "metadata": {},
   "source": [
    "<img src=\"https://i.imgur.com/fee5LZF.png\">"
   ]
  },
  {
   "cell_type": "code",
   "execution_count": 5,
   "metadata": {},
   "outputs": [],
   "source": [
    "#__start__\n",
    "\n",
    "\n",
    "\n",
    "\n",
    "#__end__"
   ]
  },
  {
   "cell_type": "markdown",
   "metadata": {},
   "source": [
    "### გამოასწორე კოდში ხარვეზი (კომპოზიცია)\n",
    "\n"
   ]
  },
  {
   "cell_type": "code",
   "execution_count": 20,
   "metadata": {},
   "outputs": [
    {
     "ename": "AttributeError",
     "evalue": "'M2' object has no attribute 'add'",
     "output_type": "error",
     "traceback": [
      "\u001b[1;31m---------------------------------------------------------------------------\u001b[0m",
      "\u001b[1;31mAttributeError\u001b[0m                            Traceback (most recent call last)",
      "\u001b[1;32m~\\AppData\\Local\\Temp\\ipykernel_1460\\2469183107.py\u001b[0m in \u001b[0;36m<module>\u001b[1;34m\u001b[0m\n\u001b[0;32m     41\u001b[0m \u001b[1;33m\u001b[0m\u001b[0m\n\u001b[0;32m     42\u001b[0m \u001b[0mm1\u001b[0m \u001b[1;33m=\u001b[0m \u001b[0mM3\u001b[0m\u001b[1;33m(\u001b[0m\u001b[1;36m8\u001b[0m\u001b[1;33m,\u001b[0m \u001b[1;36m3\u001b[0m\u001b[1;33m)\u001b[0m\u001b[1;33m\u001b[0m\u001b[1;33m\u001b[0m\u001b[0m\n\u001b[1;32m---> 43\u001b[1;33m \u001b[0mprint\u001b[0m \u001b[1;33m(\u001b[0m\u001b[1;34m\"add\"\u001b[0m\u001b[1;33m,\u001b[0m \u001b[0mm1\u001b[0m\u001b[1;33m.\u001b[0m\u001b[0madd\u001b[0m\u001b[1;33m(\u001b[0m\u001b[1;33m)\u001b[0m\u001b[1;33m)\u001b[0m\u001b[1;33m\u001b[0m\u001b[1;33m\u001b[0m\u001b[0m\n\u001b[0m\u001b[0;32m     44\u001b[0m \u001b[0mprint\u001b[0m \u001b[1;33m(\u001b[0m\u001b[1;34m\"multiply\"\u001b[0m\u001b[1;33m,\u001b[0m \u001b[0mm1\u001b[0m\u001b[1;33m.\u001b[0m\u001b[0mmultiply\u001b[0m\u001b[1;33m(\u001b[0m\u001b[1;33m)\u001b[0m\u001b[1;33m)\u001b[0m\u001b[1;33m\u001b[0m\u001b[1;33m\u001b[0m\u001b[0m\n\u001b[0;32m     45\u001b[0m \u001b[0mprint\u001b[0m \u001b[1;33m(\u001b[0m\u001b[1;34m\"substract\"\u001b[0m\u001b[1;33m,\u001b[0m \u001b[0mm1\u001b[0m\u001b[1;33m.\u001b[0m\u001b[0msubstract\u001b[0m\u001b[1;33m(\u001b[0m\u001b[1;33m)\u001b[0m\u001b[1;33m)\u001b[0m\u001b[1;33m\u001b[0m\u001b[1;33m\u001b[0m\u001b[0m\n",
      "\u001b[1;32m~\\AppData\\Local\\Temp\\ipykernel_1460\\2469183107.py\u001b[0m in \u001b[0;36madd\u001b[1;34m(self)\u001b[0m\n\u001b[0;32m     32\u001b[0m \u001b[1;33m\u001b[0m\u001b[0m\n\u001b[0;32m     33\u001b[0m     \u001b[1;32mdef\u001b[0m \u001b[0madd\u001b[0m\u001b[1;33m(\u001b[0m\u001b[0mself\u001b[0m\u001b[1;33m)\u001b[0m\u001b[1;33m:\u001b[0m\u001b[1;33m\u001b[0m\u001b[1;33m\u001b[0m\u001b[0m\n\u001b[1;32m---> 34\u001b[1;33m         \u001b[1;32mreturn\u001b[0m \u001b[0mself\u001b[0m\u001b[1;33m.\u001b[0m\u001b[0mm1\u001b[0m\u001b[1;33m.\u001b[0m\u001b[0madd\u001b[0m\u001b[1;33m(\u001b[0m\u001b[1;33m)\u001b[0m\u001b[1;33m\u001b[0m\u001b[1;33m\u001b[0m\u001b[0m\n\u001b[0m\u001b[0;32m     35\u001b[0m \u001b[1;33m\u001b[0m\u001b[0m\n\u001b[0;32m     36\u001b[0m     \u001b[1;32mdef\u001b[0m \u001b[0msubstract\u001b[0m\u001b[1;33m(\u001b[0m\u001b[0mself\u001b[0m\u001b[1;33m)\u001b[0m\u001b[1;33m:\u001b[0m\u001b[1;33m\u001b[0m\u001b[1;33m\u001b[0m\u001b[0m\n",
      "\u001b[1;31mAttributeError\u001b[0m: 'M2' object has no attribute 'add'"
     ]
    }
   ],
   "source": [
    "class M:\n",
    "    def __init__(self, x, y):\n",
    "        self.x = x\n",
    "        self.y = y\n",
    "\n",
    "    def add(self):\n",
    "        return self.x + self.y\n",
    "\n",
    "    def substract(self): \n",
    "        return self.x - self.y\n",
    "\n",
    "class M2:\n",
    "    def __init__(self, x, y):\n",
    "        self.x = x\n",
    "        self.y = y\n",
    "\n",
    "    def multiply(self):\n",
    "        return self.x * self.y\n",
    "\n",
    "    def divide(self):\n",
    "        return self.x // self.y \n",
    "\n",
    "class M3:\n",
    "    def __init__(self, x, y):\n",
    "        self.x = x\n",
    "        self.y = y\n",
    "        self.m1 = M2(x, y)\n",
    "        self.m2 = M(x, y)\n",
    "\n",
    "    def power(self):\n",
    "        return self.x ** self.y\n",
    "\n",
    "    def add(self):\n",
    "        return self.m1.add() \n",
    "\n",
    "    def substract(self):\n",
    "        return self.m1.substract() \n",
    "\n",
    "    def multiply(self):\n",
    "        return self.m2.multiply() \n",
    "\n",
    "m1 = M3(8, 3)\n",
    "print(\"add\", m1.add())         \n",
    "print(\"multiply\", m1.multiply()) \n",
    "print(\"substract\", m1.substract()) \n",
    "print(\"power\", m1.power())\n"
   ]
  },
  {
   "cell_type": "markdown",
   "metadata": {},
   "source": [
    "### გამოასწორე კოდში ხარვეზი (აგრეგაცია)\n"
   ]
  },
  {
   "cell_type": "code",
   "execution_count": 19,
   "metadata": {},
   "outputs": [
    {
     "name": "stdout",
     "output_type": "stream",
     "text": [
      "First Name:  Bruce\n",
      "Last Name:  Lee\n",
      "Address:  Mestia\n",
      "mindvalue:  <__main__.Mind object at 0x000001DC0BCF3220>\n",
      "personmind:  <bound method Mind.display of <__main__.Mind object at 0x000001DC0BCF3220>>\n"
     ]
    }
   ],
   "source": [
    "\n",
    "'''\n",
    "name: bruce \n",
    "surname: lee \n",
    "address: mestia \n",
    "mind: 4\n",
    "'''\n",
    "\n",
    "class Mind:\n",
    "    def __init__(self, mind):\n",
    "        self.mind = mind\n",
    "        \n",
    "    def display(self):\n",
    "        return self.mindValves + 12  \n",
    "\n",
    "class Person:\n",
    "    def __init__(self, fname, lname, address, mind):\n",
    "        self.fname = fname\n",
    "        self.lname = lname\n",
    "        self.address = address\n",
    "        self.mind = mind  \n",
    "        \n",
    "    def display(self):\n",
    "        print(\"First Name: \", self.fname)  \n",
    "        print(\"Last Name: \", self.lname)   \n",
    "        print(\"Address: \", self.address.lower())  \n",
    "        print(\"mindvalue: \", self.mind)    \n",
    "        print(\"personmind: \", M.display)   \n",
    "\n",
    "M = Mind(4)\n",
    "p = Person(\"Bruce\", \"Lee\", \"Mestia\", M )\n",
    "p.display()  \n"
   ]
  }
 ],
 "metadata": {
  "kernelspec": {
   "display_name": "Python 3 (ipykernel)",
   "language": "python",
   "name": "python3"
  },
  "language_info": {
   "codemirror_mode": {
    "name": "ipython",
    "version": 3
   },
   "file_extension": ".py",
   "mimetype": "text/x-python",
   "name": "python",
   "nbconvert_exporter": "python",
   "pygments_lexer": "ipython3",
   "version": "3.9.13"
  },
  "vscode": {
   "interpreter": {
    "hash": "1682e5d06a6d97c1b1cf6bb4ae6cf16223e994936ddb1d53664597d7d46101fa"
   }
  }
 },
 "nbformat": 4,
 "nbformat_minor": 2
}
